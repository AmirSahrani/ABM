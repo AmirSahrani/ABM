{
 "cells": [
  {
   "cell_type": "code",
   "execution_count": 3,
   "metadata": {},
   "outputs": [],
   "source": [
    "import SALib as sa\n",
    "from SALib import ProblemSpec\n",
    "import numpy as np\n",
    "import sys\n",
    "sys.path.append(\"../scripts\")\n",
    "from model import DuneModel\n",
    "from experiment_utils import *\n",
    "sys.path.remove(\"../scripts\")"
   ]
  },
  {
   "cell_type": "code",
   "execution_count": null,
   "id": "3723d424",
   "metadata": {},
   "outputs": [],
   "source": []
  },
  {
   "cell_type": "code",
   "execution_count": 14,
   "id": "76dd6538",
   "metadata": {},
   "outputs": [],
   "source": [
    "def salib_wrapper(target: str):\n",
    "    \"\"\" Wrapper for SALib to use the DuneModel, since there can be multiple outputs, this return a new function specicifying the target output \"\"\"\n",
    "    def out_fun(input, model):\n",
    "        model = model(input)\n",
    "        out = model.run_model()\n",
    "        return out[target][-1]\n",
    "\n",
    "    return out_fun"
   ]
  },
  {
   "cell_type": "code",
   "execution_count": 7,
   "id": "9f719143",
   "metadata": {},
   "outputs": [],
   "source": [
    "# Define the problem specification dictionary\n",
    "problem = ProblemSpec({\n",
    "    'names': [\n",
    "    \"width\",\n",
    "    \"height\",\n",
    "    \"n_tribes\",\n",
    "    \"n_agents\",\n",
    "    \"n_heaps\",\n",
    "    \"vision_radius\",\n",
    "    \"step_count\",\n",
    "    \"alpha\",\n",
    "    \"trade_percentage\",\n",
    "],\n",
    "    'bounds': [\n",
    "    (10, 200),  # width\n",
    "    (10, 200),  # height\n",
    "    (1, 10),   # n_tribes\n",
    "    (10, 100),  # n_agents\n",
    "    (1, 10),   # n_heaps\n",
    "    (1, 10),   # vision_radius\n",
    "    (1, 100),  # step_count\n",
    "    (0.0, 1.0), # alpha\n",
    "    (0.0, 1.0), # trade_percentage\n",
    "    ]\n",
    "\n",
    "})\n",
    "\n",
    "problem[\"spice_generator\"] =  gen_spice_map # Predefined function\n",
    "problem[\"river_generator\"] =  gen_river_random # Predefined function\n",
    "problem[\"location_generator\"] = split_tribes_locations # Predefined function"
   ]
  },
  {
   "cell_type": "code",
   "execution_count": 15,
   "id": "1d6416a5",
   "metadata": {},
   "outputs": [
    {
     "ename": "TypeError",
     "evalue": "salib_wrapper.<locals>.out_fun() missing 1 required positional argument: 'model'",
     "output_type": "error",
     "traceback": [
      "\u001b[0;31m---------------------------------------------------------------------------\u001b[0m",
      "\u001b[0;31mTypeError\u001b[0m                                 Traceback (most recent call last)",
      "Cell \u001b[0;32mIn[15], line 4\u001b[0m\n\u001b[1;32m      1\u001b[0m sensitivity_target_nomads \u001b[38;5;241m=\u001b[39m salib_wrapper(\u001b[38;5;124m'\u001b[39m\u001b[38;5;124mNomads\u001b[39m\u001b[38;5;124m'\u001b[39m)\n\u001b[1;32m      2\u001b[0m (\n\u001b[1;32m      3\u001b[0m     problem\u001b[38;5;241m.\u001b[39msample_sobol(\u001b[38;5;241m2\u001b[39m\u001b[38;5;241m*\u001b[39m\u001b[38;5;241m*\u001b[39m\u001b[38;5;241m6\u001b[39m)\n\u001b[0;32m----> 4\u001b[0m     \u001b[38;5;241m.\u001b[39mevaluate(sensitivity_target_nomads)\n\u001b[1;32m      5\u001b[0m     \u001b[38;5;241m.\u001b[39manalyze_sobol()\n\u001b[1;32m      6\u001b[0m )\n",
      "File \u001b[0;32m~/miniconda3/envs/compsci/lib/python3.12/site-packages/SALib/util/problem.py:183\u001b[0m, in \u001b[0;36mProblemSpec.evaluate\u001b[0;34m(self, func, *args, **kwargs)\u001b[0m\n\u001b[1;32m    180\u001b[0m \u001b[38;5;28;01mif\u001b[39;00m nprocs \u001b[38;5;241m>\u001b[39m \u001b[38;5;241m1\u001b[39m:\n\u001b[1;32m    181\u001b[0m     \u001b[38;5;28;01mreturn\u001b[39;00m \u001b[38;5;28mself\u001b[39m\u001b[38;5;241m.\u001b[39mevaluate_parallel(func, \u001b[38;5;241m*\u001b[39margs, nprocs\u001b[38;5;241m=\u001b[39mnprocs, \u001b[38;5;241m*\u001b[39m\u001b[38;5;241m*\u001b[39mkwargs)\n\u001b[0;32m--> 183\u001b[0m \u001b[38;5;28mself\u001b[39m\u001b[38;5;241m.\u001b[39mresults \u001b[38;5;241m=\u001b[39m func(\u001b[38;5;28mself\u001b[39m\u001b[38;5;241m.\u001b[39m_samples, \u001b[38;5;241m*\u001b[39margs, \u001b[38;5;241m*\u001b[39m\u001b[38;5;241m*\u001b[39mkwargs)\n\u001b[1;32m    185\u001b[0m \u001b[38;5;28;01mreturn\u001b[39;00m \u001b[38;5;28mself\u001b[39m\n",
      "\u001b[0;31mTypeError\u001b[0m: salib_wrapper.<locals>.out_fun() missing 1 required positional argument: 'model'"
     ]
    }
   ],
   "source": [
    "sensitivity_target_nomads = salib_wrapper('Nomads')\n",
    "(\n",
    "    problem.sample_sobol(2**6)\n",
    "    .evaluate(sensitivity_target_nomads)\n",
    "    .analyze_sobol()\n",
    ")"
   ]
  }
 ],
 "metadata": {
  "kernelspec": {
   "display_name": "compsci",
   "language": "python",
   "name": "python3"
  },
  "language_info": {
   "codemirror_mode": {
    "name": "ipython",
    "version": 3
   },
   "file_extension": ".py",
   "mimetype": "text/x-python",
   "name": "python",
   "nbconvert_exporter": "python",
   "pygments_lexer": "ipython3",
   "version": "3.12.3"
  }
 },
 "nbformat": 4,
 "nbformat_minor": 5
}
