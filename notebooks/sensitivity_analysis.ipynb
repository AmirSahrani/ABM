{
 "cells": [
  {
   "cell_type": "code",
   "execution_count": null,
   "metadata": {},
   "outputs": [],
   "source": [
    "import SALib as sa\n",
    "from SALib import ProblemSpec\n",
    "from SALib.analyze import sobol\n",
    "import numpy as np\n",
    "import sys\n",
    "sys.path.append(\"../scripts\")\n",
    "from model import DuneModel\n",
    "from experiment_utils import *\n",
    "sys.path.remove(\"../scripts\")"
   ]
  },
  {
   "cell_type": "code",
   "execution_count": null,
   "id": "76dd6538",
   "metadata": {},
   "outputs": [],
   "source": [
    "def salib_wrapper(target: str, **kwargs):\n",
    "    \"\"\" Wrapper for SALib to use the DuneModel, since there can be multiple outputs, this returns a new function specifying the target output \"\"\"\n",
    "    def out_fun(inputs):\n",
    "        result = np.empty(len(inputs))\n",
    "        for i, inp in enumerate(inputs):\n",
    "            m = DuneModel(width=inp[0].astype(int),\n",
    "                height=inp[1].astype(int),\n",
    "                n_tribes=inp[2].astype(int),\n",
    "                n_agents=inp[3].astype(int),\n",
    "                n_heaps=inp[4].astype(int),\n",
    "                vision_radius=inp[5].astype(int),\n",
    "                step_count=inp[6].astype(int),\n",
    "                alpha=inp[7],\n",
    "                trade_percentage=inp[8],\n",
    "                **kwargs)\n",
    "            out = m.run_model()\n",
    "            result[i] = out[target].to_numpy()[-1]\n",
    "        return result\n",
    "\n",
    "    return out_fun"
   ]
  },
  {
   "cell_type": "code",
   "execution_count": null,
   "id": "9f719143",
   "metadata": {},
   "outputs": [],
   "source": [
    "# Define the problem specification dictionary\n",
    "problem = ProblemSpec({\n",
    "    'names': [\n",
    "    \"width\",\n",
    "    \"height\",\n",
    "    \"n_tribes\",\n",
    "    \"n_agents\",\n",
    "    \"n_heaps\",\n",
    "    \"vision_radius\",\n",
    "    \"step_count\",\n",
    "    \"alpha\",\n",
    "    \"trade_percentage\",\n",
    "],\n",
    "    'bounds': [\n",
    "    (10, 200),  # width\n",
    "    (10, 200),  # height\n",
    "    (1, 10),    # n_tribes\n",
    "    (10, 100),  # n_agents\n",
    "    (1, 10),    # n_heaps\n",
    "    (1, 10),    # vision_radius\n",
    "    (50, 500),   # step_count\n",
    "    (0.0, 1.0), # alpha\n",
    "    (0.0, 1.0), # trade_percentage\n",
    "    ]\n",
    "})\n",
    "\n"
   ]
  },
  {
   "cell_type": "code",
   "execution_count": null,
   "id": "d5d87f5f",
   "metadata": {},
   "outputs": [],
   "source": [
    "random_spice_map_picker = lambda *args: np.random.choice([gen_spice_map])( *args)\n",
    "random_river_picker = lambda *args: np.random.choice([gen_river_random, gen_river_line, no_river])( *args)\n",
    "random_location_picker = lambda *args: np.random.choice([random_locations, split_tribe_locations])( *args)"
   ]
  },
  {
   "cell_type": "code",
   "execution_count": null,
   "id": "c9c3e1cd",
   "metadata": {},
   "outputs": [],
   "source": [
    "\n",
    "kwargs = {\n",
    "    \"experiment_name\": \"test\",\n",
    "    \"spice_generator\": pice_map_picker,\n",
    "    \"river_generator\": river_picker,\n",
    "    \"location_generator\": location_picker,\n",
    "    \"spice_kwargs\": {\"cov_range\": (3, 9), \"total_spice\": 1000}\n",
    "}"
   ]
  },
  {
   "cell_type": "code",
   "execution_count": null,
   "id": "1d6416a5",
   "metadata": {},
   "outputs": [],
   "source": [
    "sensitivity_target_nomads = salib_wrapper('Nomads', **kwargs)\n",
    "sa.ProblemSpec.evaluate_parallel\n",
    "# Generate samples using Sobol sequence\n",
    "samples = problem.sample_sobol(1024)\n",
    "\n",
    "# Evaluate the model\n",
    "results = samples.evaluate_parallel(sensitivity_target_nomads)\n"
   ]
  },
  {
   "cell_type": "code",
   "execution_count": null,
   "id": "e983f146",
   "metadata": {},
   "outputs": [],
   "source": [
    "\n",
    "Si = results.analyze_sobol()\n",
    "print(Si)\n",
    "\n",
    "Si.plot()"
   ]
  }
 ],
 "metadata": {
  "kernelspec": {
   "display_name": "compsci",
   "language": "python",
   "name": "python3"
  },
  "language_info": {
   "codemirror_mode": {
    "name": "ipython",
    "version": 3
   },
   "file_extension": ".py",
   "mimetype": "text/x-python",
   "name": "python",
   "nbconvert_exporter": "python",
   "pygments_lexer": "ipython3",
   "version": "3.11.4"
  }
 },
 "nbformat": 4,
 "nbformat_minor": 5
}
